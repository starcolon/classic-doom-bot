{
 "cells": [
  {
   "cell_type": "code",
   "execution_count": 1,
   "metadata": {
    "collapsed": false
   },
   "outputs": [],
   "source": [
    "import os\n",
    "import gym\n",
    "import pickle\n",
    "import matplotlib.pyplot as plt\n",
    "import numpy as np\n",
    "import ppaquette_gym_doom"
   ]
  },
  {
   "cell_type": "code",
   "execution_count": 2,
   "metadata": {
    "collapsed": false
   },
   "outputs": [
    {
     "name": "stderr",
     "output_type": "stream",
     "text": [
      "INFO:gym.envs.registration:Making new env: ppaquette/DoomDefendCenter-v0\n",
      "[2017-04-26 19:04:28,864] Making new env: ppaquette/DoomDefendCenter-v0\n"
     ]
    }
   ],
   "source": [
    "# Create a classic Doom environment with Gym\n",
    "env = gym.make('ppaquette/DoomDefendCenter-v0')"
   ]
  },
  {
   "cell_type": "code",
   "execution_count": 3,
   "metadata": {
    "collapsed": false
   },
   "outputs": [],
   "source": [
    "# Agent\n",
    "class QAgent:\n",
    "  def __init__(self,\\\n",
    "               learn_rate=0.05,\\\n",
    "               observation_encoder=lambda x: x,\\\n",
    "               verbose=True):\n",
    "    self.alpha = 0.9 # Probability of re-learning \n",
    "    self.policy = dict() # Q: (state,action) => value\n",
    "    self.total_reward = 0\n",
    "    self.learn_rate = learn_rate\n",
    "    self.action_mapping = {} # Map [action str] => [action object]\n",
    "    self.observation_encoder = observation_encoder\n",
    "    self.verbose = verbose\n",
    "    self.reset()\n",
    "    \n",
    "  def reset(self):\n",
    "    self.prev_state = 0\n",
    "    self.total_reward = 0\n",
    "        \n",
    "  def learn_aggregate(self, observation, observation_, action, reward):\n",
    "    # Encode [observation] => [state]\n",
    "    state  = self.observation_encoder(observation)\n",
    "    state_ = self.observation_encoder(observation_)\n",
    "    self.learn_Q(state, state_, str(action), reward)\n",
    "    self.action_mapping[str(action)] = action\n",
    "    self.prev_state = state\n",
    "    self.total_reward += reward\n",
    "\n",
    "  \"\"\"\n",
    "  Predict the reward we would get\n",
    "  if take [action] on [state]\n",
    "  \"\"\"\n",
    "  def learn_Q(self, state, state_, action, reward):\n",
    "    # if self.verbose: print(state_, ' [ reward = {} ]'.format(reward))\n",
    "    curr_Q  = self.Q(state, action)\n",
    "    _,max_Q = self.find_best_action(state_)\n",
    "    new_Q   = curr_Q + self.alpha*(reward + self.learn_rate * max_Q - curr_Q)\n",
    "    if state in self.policy:\n",
    "      self.policy[state][action] = reward # Always overwrite\n",
    "    else: self.policy[state] = {action: new_Q}\n",
    "\n",
    "  \"\"\"\n",
    "  Find maximum possible reward we would get\n",
    "  from the best action attempted on [state]\n",
    "  \"\"\"\n",
    "  def find_best_action(self, state):\n",
    "    if state in self.policy:\n",
    "      max_Q    = -1\n",
    "      best_act = -1\n",
    "      for a,r in self.policy[state].items():\n",
    "        if r > max_Q:\n",
    "          best_act = a\n",
    "          max_Q = r\n",
    "      return (best_act, max_Q)\n",
    "    else: return (-1,-1)\n",
    "    \n",
    "  def decode_action(self, action):\n",
    "    if action not in self.action_mapping:\n",
    "      return None\n",
    "    else: \n",
    "      return self.action_mapping[action]\n",
    "\n",
    "  \"\"\"\n",
    "  Get recorded Q value of (state, action)\n",
    "  \"\"\"\n",
    "  def Q(self, state, action):\n",
    "    if state in self.policy:\n",
    "      if action in self.policy[state]:\n",
    "        return self.policy[state][action]\n",
    "      else: return -1\n",
    "    else: return -1\n",
    "  \n",
    "  @staticmethod\n",
    "  def load(path, default):\n",
    "    if os.path.isfile(path):\n",
    "      with open(path,'rb') as f:\n",
    "        return pickle.load(f) \n",
    "    else:\n",
    "      print('MODEL NOT FOUND, initialising a brand new one.')\n",
    "      return default\n",
    "\n",
    "  @staticmethod\n",
    "  def save(path,agent):\n",
    "    with open(path,'wb+') as f:\n",
    "      return pickle.dump(agent, f)\n",
    "\n"
   ]
  },
  {
   "cell_type": "code",
   "execution_count": 4,
   "metadata": {
    "collapsed": true
   },
   "outputs": [],
   "source": [
    "# Computer vision utils\n",
    "from PIL import Image\n",
    "from scipy.stats import threshold\n",
    "from scipy.signal import medfilt\n",
    "from scipy.misc import toimage\n",
    "def encode_screen(observation):\n",
    "  # Crop & downsampling & grayscale\n",
    "  cropped = observation[150:230:3, ::2 , :]\n",
    "  r = cropped[:,:,0]\n",
    "  return projection(pixelate(r))\n",
    "\n",
    "def show(mat):\n",
    "  toimage(mat).show()\n",
    "\n",
    "\"\"\"\n",
    "Coarse pixelate\n",
    "\"\"\"\n",
    "def pixelate(observation):\n",
    "  # Threshold\n",
    "  m = threshold(observation, threshmin=100, threshmax=None, newval=0)\n",
    "  # Remove noise\n",
    "  m = medfilt(m, 3)\n",
    "  return m\n",
    "\n",
    "def projection(pixels):\n",
    "  # Horizontal projection\n",
    "  _,w = pixels.shape\n",
    "  proj = np.zeros(w)\n",
    "  for x in range(w):\n",
    "    proj[x] = np.where(np.sum(pixels[:,x]) < 2400, 1, 0)\n",
    "\n",
    "  # Reduce\n",
    "  pj = []\n",
    "  count = np.count_nonzero\n",
    "  start = 0\n",
    "  stride = 5\n",
    "  while len(proj[start:start+stride])>0:\n",
    "    pj.append(count(proj[start:start+stride]) > 3)\n",
    "    start += stride+1\n",
    "    \n",
    "  return str(pj)\n",
    "        "
   ]
  },
  {
   "cell_type": "code",
   "execution_count": 5,
   "metadata": {
    "collapsed": false
   },
   "outputs": [
    {
     "name": "stdout",
     "output_type": "stream",
     "text": [
      "MODEL NOT FOUND, initialising a brand new one.\n",
      "Ep#0 started...\n",
      "...[DONE] Total reward : 0.0\n",
      "Ep#25 started...\n",
      "...[DONE] Total reward : 1.0\n",
      "Ep#50 started...\n",
      "...[DONE] Total reward : 2.0\n",
      "Ep#75 started...\n",
      "...[DONE] Total reward : 1.0\n",
      "Ep#100 started...\n",
      "...[DONE] Total reward : -1.0\n",
      "Ep#125 started...\n",
      "...[DONE] Total reward : 3.0\n",
      "Ep#150 started...\n",
      "...[DONE] Total reward : 1.0\n",
      "Ep#175 started...\n",
      "...[DONE] Total reward : 2.0\n",
      "Ep#200 started...\n",
      "...[DONE] Total reward : 2.0\n",
      "Ep#225 started...\n",
      "...[DONE] Total reward : 1.0\n",
      "Ep#250 started...\n",
      "...[DONE] Total reward : 4.0\n",
      "Ep#275 started...\n",
      "...[DONE] Total reward : -1.0\n",
      "Ep#300 started...\n",
      "...[DONE] Total reward : -1.0\n",
      "Ep#325 started...\n",
      "...[DONE] Total reward : 0.0\n",
      "Ep#350 started...\n",
      "...[DONE] Total reward : 0.0\n",
      "Ep#375 started...\n",
      "...[DONE] Total reward : 1.0\n",
      "Ep#400 started...\n",
      "...[DONE] Total reward : 1.0\n",
      "Ep#425 started...\n",
      "...[DONE] Total reward : -1.0\n",
      "Ep#450 started...\n",
      "...[DONE] Total reward : 1.0\n",
      "Ep#475 started...\n",
      "...[DONE] Total reward : 2.0\n",
      "All 500 episodes of training are DONE.\n"
     ]
    }
   ],
   "source": [
    "# Play\n",
    "model_name = 'QAgent.pkl'\n",
    "score_records = [] # Scores of each round\n",
    "turn_records = [] # Number of turns lasting each round\n",
    "num_episodes = 500\n",
    "all_actions = set(range(3)) # Attack / Right / Left\n",
    "\n",
    "bot = QAgent.load(model_name,\\\n",
    "                  QAgent(learn_rate=0.8, \\\n",
    "                         observation_encoder=encode_screen))\n",
    "\n",
    "for i in range(num_episodes):\n",
    "  if num_episodes<25 or i % 25 == 0:\n",
    "    print('Ep#{} started...'.format(i))\n",
    "  observation = env.reset()\n",
    "  num_turns = 0\n",
    "  while True:\n",
    "    env.render()\n",
    "    \n",
    "    # Try to find best action, otherwise, random\n",
    "    state = bot.observation_encoder(observation)\n",
    "    action, _ = bot.find_best_action(state)\n",
    "    if action == -1:\n",
    "      action = env.action_space.sample()\n",
    "    else:\n",
    "      # print('... Best action : ', action)\n",
    "      action = bot.decode_action(action)\n",
    "\n",
    "    observation_, reward, done, info = env.step(action)\n",
    "    bot.learn_aggregate(observation, observation_, action, reward)\n",
    "    observation = np.copy(observation_)\n",
    "    num_turns  += 1\n",
    "    if done:\n",
    "      score_records.append(bot.total_reward)\n",
    "      turn_records.append(num_turns)\n",
    "      if num_episodes<25 or i % 25 == 0:\n",
    "        print('...[DONE] Total reward : {}'.format(bot.total_reward))\n",
    "      # Save the agent\n",
    "      QAgent.save(model_name, bot)\n",
    "      bot.reset()\n",
    "      break\n",
    "        \n",
    "print('All {} episodes of training are DONE.'.format(num_episodes))\n",
    "    \n"
   ]
  },
  {
   "cell_type": "code",
   "execution_count": 6,
   "metadata": {
    "collapsed": false
   },
   "outputs": [
    {
     "data": {
      "image/png": "[encoded data removed]",
      "text/plain": [
       "<matplotlib.figure.Figure at 0x10726c080>"
      ]
     },
     "metadata": {},
     "output_type": "display_data"
    },
    {
     "data": {
      "image/png": "[encoded data removed]",
      "text/plain": [
       "<matplotlib.figure.Figure at 0x10e403ba8>"
      ]
     },
     "metadata": {},
     "output_type": "display_data"
    }
   ],
   "source": [
    "# Show score\n",
    "%matplotlib inline\n",
    "\n",
    "def moving_avg(arr):\n",
    "  mm = []\n",
    "  wnd = 8\n",
    "  for i in range(len(arr)):\n",
    "    v = arr[i-wnd:i]\n",
    "    if len(v)>0:\n",
    "      mm.append(max(v))\n",
    "  return mm\n",
    "\n",
    "plt.figure(1)\n",
    "plt.xlabel('# Episode')\n",
    "plt.ylabel('Score/game')\n",
    "plt.plot(moving_avg(score_records))\n",
    "\n",
    "plt.figure(2)\n",
    "plt.xlabel('# Episode')\n",
    "plt.ylabel('Turns/game')\n",
    "plt.plot(moving_avg(turn_records))\n",
    "plt.show()"
   ]
  },
  {
   "cell_type": "code",
   "execution_count": null,
   "metadata": {
    "collapsed": false
   },
   "outputs": [],
   "source": []
  },
  {
   "cell_type": "code",
   "execution_count": null,
   "metadata": {
    "collapsed": true
   },
   "outputs": [],
   "source": []
  }
 ],
 "metadata": {
  "kernelspec": {
   "display_name": "Python 3",
   "language": "python",
   "name": "python3"
  },
  "language_info": {
   "codemirror_mode": {
    "name": "ipython",
    "version": 3
   },
   "file_extension": ".py",
   "mimetype": "text/x-python",
   "name": "python",
   "nbconvert_exporter": "python",
   "pygments_lexer": "ipython3",
   "version": "3.4.3"
  }
 },
 "nbformat": 4,
 "nbformat_minor": 0
}

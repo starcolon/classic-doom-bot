{
 "cells": [
  {
   "cell_type": "code",
   "execution_count": null,
   "metadata": {
    "collapsed": false
   },
   "outputs": [],
   "source": [
    "import gym\n",
    "import theano\n",
    "import theano.tensor as T\n",
    "import numpy as np\n",
    "import heapq\n",
    "import ppaquette_gym_doom"
   ]
  },
  {
   "cell_type": "code",
   "execution_count": null,
   "metadata": {
    "collapsed": false
   },
   "outputs": [],
   "source": [
    "# Create a classic Doom environment with Gym\n",
    "env = gym.make('ppaquette/DoomDefendCenter-v0')\n",
    "env.reset()"
   ]
  },
  {
   "cell_type": "code",
   "execution_count": null,
   "metadata": {
    "collapsed": true
   },
   "outputs": [],
   "source": [
    "# Agent\n",
    "class QAgent:\n",
    "  def __init__(self, learn_rate=0.05, \\\n",
    "               action_set=set(),\n",
    "               observation_encoder=lambda x: x, \n",
    "               verbose=False\\):\n",
    "    self.alpha = 0.9 # Probability of re-learning \n",
    "    self.policy = dict() # Q: (state,action) => value\n",
    "    self.total_reward = 0\n",
    "    self.learn_rate = learn_rate\n",
    "    self.action_set = action_set\n",
    "    self.observation_encoder = observation_encoder\n",
    "    self.verbose = verbose\n",
    "\n",
    "  \"\"\"\n",
    "  Predict the reward we would get\n",
    "  if take [action] on [state]\n",
    "  \"\"\"\n",
    "  def learn_Q(self, state, state_, action, reward):\n",
    "    curr_Q  = Q(state, action)\n",
    "    _,max_Q = find_best_action(state_)\n",
    "    new_Q   = curr_Q + self.alpha*(reward + self.learn_rate * max_Q - curr_Q)\n",
    "    if state in self.policy:\n",
    "      self.policy[state][action] = reward # Always overwrite\n",
    "    else: self.policy[state] = {action: new_Q}\n",
    "\n",
    "  \"\"\"\n",
    "  Find maximum possible reward we would get\n",
    "  from the best action attempted on [state]\n",
    "  \"\"\"\n",
    "  def find_best_action(self, state):\n",
    "    if state in self.policy:\n",
    "      max_Q    = -1\n",
    "      best_act = -1\n",
    "      for a,r in self.policy[state].items():\n",
    "        if r > maxQ:\n",
    "          best_act = a\n",
    "          max_Q = r\n",
    "      return (best_act, max_Q)\n",
    "    else: return (-1,-1)\n",
    "\n",
    "  \"\"\"\n",
    "  Get recorded Q value of (state, action)\n",
    "  \"\"\"\n",
    "  def Q(self, state, action):\n",
    "    if state in self.policy:\n",
    "      if action in self.policy[state]:\n",
    "        return self.policy[state][action]\n",
    "      else: return -1\n",
    "    else: return -1\n",
    "  \n",
    "  @staticmethod\n",
    "  def load(self,path):\n",
    "    with open(path,'rb') as f:\n",
    "      return pickle.load(f) \n",
    "\n",
    "  @staticmethod\n",
    "  def save(self,path):\n",
    "    with open(path,'rw') as f:\n",
    "      return pickle.save(f, )\n",
    "\n"
   ]
  },
  {
   "cell_type": "code",
   "execution_count": null,
   "metadata": {
    "collapsed": false
   },
   "outputs": [],
   "source": [
    "# Play\n",
    "bot = QAgent()\n",
    "for _ in range(250):\n",
    "  observation = env.render()\n",
    "  # random_action = env.action_space.sample()\n",
    "  observation, reward, done, info = env.step()\n",
    "  if done:\n",
    "    print('[Done]')\n",
    "    print('...Total reward : {}'.format(bot.total_reward))\n",
    "    break"
   ]
  },
  {
   "cell_type": "code",
   "execution_count": null,
   "metadata": {
    "collapsed": false
   },
   "outputs": [],
   "source": [
    "md5(3)"
   ]
  },
  {
   "cell_type": "code",
   "execution_count": null,
   "metadata": {
    "collapsed": true
   },
   "outputs": [],
   "source": []
  }
 ],
 "metadata": {
  "kernelspec": {
   "display_name": "Python 3",
   "language": "python",
   "name": "python3"
  },
  "language_info": {
   "codemirror_mode": {
    "name": "ipython",
    "version": 3
   },
   "file_extension": ".py",
   "mimetype": "text/x-python",
   "name": "python",
   "nbconvert_exporter": "python",
   "pygments_lexer": "ipython3",
   "version": "3.4.3"
  }
 },
 "nbformat": 4,
 "nbformat_minor": 0
}

{
 "cells": [
  {
   "cell_type": "code",
   "execution_count": 1,
   "metadata": {
    "collapsed": false
   },
   "outputs": [],
   "source": [
    "import os\n",
    "import gym\n",
    "import theano\n",
    "import theano.tensor as T\n",
    "import numpy as np\n",
    "import heapq\n",
    "import ppaquette_gym_doom"
   ]
  },
  {
   "cell_type": "code",
   "execution_count": 2,
   "metadata": {
    "collapsed": false
   },
   "outputs": [
    {
     "name": "stderr",
     "output_type": "stream",
     "text": [
      "INFO:gym.envs.registration:Making new env: ppaquette/DoomDefendCenter-v0\n",
      "[2017-03-20 23:10:47,897] Making new env: ppaquette/DoomDefendCenter-v0\n"
     ]
    },
    {
     "data": {
      "text/plain": [
       "array([[[ 0,  0, 35],\n",
       "        [ 0,  0, 35],\n",
       "        [ 0,  0, 35],\n",
       "        ..., \n",
       "        [ 0,  0,  0],\n",
       "        [ 0,  0, 35],\n",
       "        [ 0,  0, 35]],\n",
       "\n",
       "       [[ 0,  0, 35],\n",
       "        [ 0,  0,  0],\n",
       "        [ 0,  0,  0],\n",
       "        ..., \n",
       "        [ 0,  0, 35],\n",
       "        [ 0,  0,  0],\n",
       "        [ 0,  0,  0]],\n",
       "\n",
       "       [[ 0,  0, 35],\n",
       "        [ 0,  0,  0],\n",
       "        [ 0,  0,  0],\n",
       "        ..., \n",
       "        [ 0,  0,  0],\n",
       "        [ 0,  0,  0],\n",
       "        [ 0,  0,  0]],\n",
       "\n",
       "       ..., \n",
       "       [[19, 19, 19],\n",
       "        [19, 19, 19],\n",
       "        [27, 27, 27],\n",
       "        ..., \n",
       "        [47, 47, 47],\n",
       "        [35, 35, 35],\n",
       "        [35, 35, 35]],\n",
       "\n",
       "       [[11, 11, 11],\n",
       "        [11, 11, 11],\n",
       "        [19, 19, 19],\n",
       "        ..., \n",
       "        [19, 19, 19],\n",
       "        [19, 19, 19],\n",
       "        [19, 19, 19]],\n",
       "\n",
       "       [[11, 11, 11],\n",
       "        [11, 11, 11],\n",
       "        [19, 19, 19],\n",
       "        ..., \n",
       "        [19, 19, 19],\n",
       "        [19, 19, 19],\n",
       "        [19, 19, 19]]], dtype=uint8)"
      ]
     },
     "execution_count": 2,
     "metadata": {},
     "output_type": "execute_result"
    }
   ],
   "source": [
    "# Create a classic Doom environment with Gym\n",
    "env = gym.make('ppaquette/DoomDefendCenter-v0')\n",
    "env.reset()"
   ]
  },
  {
   "cell_type": "code",
   "execution_count": 4,
   "metadata": {
    "collapsed": false
   },
   "outputs": [],
   "source": [
    "# Agent\n",
    "class QAgent:\n",
    "  def __init__(self, learn_rate=0.05, \\\n",
    "               action_set=set(),\n",
    "               observation_encoder=lambda x: x,\\\n",
    "               verbose=False):\n",
    "    self.alpha = 0.9 # Probability of re-learning \n",
    "    self.policy = dict() # Q: (state,action) => value\n",
    "    self.total_reward = 0\n",
    "    self.learn_rate = learn_rate\n",
    "    self.action_set = action_set\n",
    "    self.observation_encoder = observation_encoder\n",
    "    self.prev_state = 0\n",
    "    self.verbose = verbose\n",
    "    \n",
    "  def learn_aggregate(self, observation, action, reward):\n",
    "    # Encode [observation] => [state]\n",
    "    state = self.observation_encoder(observation)\n",
    "    learn_Q(self.prev_state, state, action, reward)\n",
    "    self.prev_state = state\n",
    "    \n",
    "\n",
    "  \"\"\"\n",
    "  Predict the reward we would get\n",
    "  if take [action] on [state]\n",
    "  \"\"\"\n",
    "  def learn_Q(self, state, state_, action, reward):\n",
    "    curr_Q  = Q(state, action)\n",
    "    _,max_Q = find_best_action(state_)\n",
    "    new_Q   = curr_Q + self.alpha*(reward + self.learn_rate * max_Q - curr_Q)\n",
    "    if state in self.policy:\n",
    "      self.policy[state][action] = reward # Always overwrite\n",
    "    else: self.policy[state] = {action: new_Q}\n",
    "\n",
    "  \"\"\"\n",
    "  Find maximum possible reward we would get\n",
    "  from the best action attempted on [state]\n",
    "  \"\"\"\n",
    "  def find_best_action(self, state):\n",
    "    if state in self.policy:\n",
    "      max_Q    = -1\n",
    "      best_act = -1\n",
    "      for a,r in self.policy[state].items():\n",
    "        if r > maxQ:\n",
    "          best_act = a\n",
    "          max_Q = r\n",
    "      return (best_act, max_Q)\n",
    "    else: return (-1,-1)\n",
    "\n",
    "  \"\"\"\n",
    "  Get recorded Q value of (state, action)\n",
    "  \"\"\"\n",
    "  def Q(self, state, action):\n",
    "    if state in self.policy:\n",
    "      if action in self.policy[state]:\n",
    "        return self.policy[state][action]\n",
    "      else: return -1\n",
    "    else: return -1\n",
    "  \n",
    "  @staticmethod\n",
    "  def load(path, default):\n",
    "    if os.path.isfile(path):\n",
    "      with open(path,'rb') as f:\n",
    "        return pickle.load(f) \n",
    "    else:\n",
    "      print('MODEL NOT FOUND, initialising a brand new one.')\n",
    "      return default\n",
    "\n",
    "  @staticmethod\n",
    "  def save(path,agent):\n",
    "    with open(path,'wb+') as f:\n",
    "      return pickle.save(agent, f)\n",
    "\n"
   ]
  },
  {
   "cell_type": "code",
   "execution_count": 1,
   "metadata": {
    "collapsed": false
   },
   "outputs": [
    {
     "ename": "NameError",
     "evalue": "name 'QAgent' is not defined",
     "output_type": "error",
     "traceback": [
      "\u001b[0;31m---------------------------------------------------------------------------\u001b[0m",
      "\u001b[0;31mNameError\u001b[0m                                 Traceback (most recent call last)",
      "\u001b[0;32m<ipython-input-1-0c3a4acc56b3>\u001b[0m in \u001b[0;36m<module>\u001b[0;34m()\u001b[0m\n\u001b[1;32m      2\u001b[0m \u001b[0mnum_episodes\u001b[0m \u001b[0;34m=\u001b[0m \u001b[0;36m1\u001b[0m\u001b[0;34m\u001b[0m\u001b[0m\n\u001b[1;32m      3\u001b[0m \u001b[0;34m\u001b[0m\u001b[0m\n\u001b[0;32m----> 4\u001b[0;31m \u001b[0mbot\u001b[0m \u001b[0;34m=\u001b[0m \u001b[0mQAgent\u001b[0m\u001b[0;34m.\u001b[0m\u001b[0mload\u001b[0m\u001b[0;34m(\u001b[0m\u001b[0;34m'../bot/QAgent.pkl'\u001b[0m\u001b[0;34m,\u001b[0m \u001b[0mQAgent\u001b[0m\u001b[0;34m(\u001b[0m\u001b[0;34m)\u001b[0m\u001b[0;34m)\u001b[0m\u001b[0;34m\u001b[0m\u001b[0m\n\u001b[0m\u001b[1;32m      5\u001b[0m \u001b[0;34m\u001b[0m\u001b[0m\n\u001b[1;32m      6\u001b[0m \u001b[0;32mfor\u001b[0m \u001b[0mi\u001b[0m \u001b[0;32min\u001b[0m \u001b[0mrange\u001b[0m\u001b[0;34m(\u001b[0m\u001b[0mnum_episodes\u001b[0m\u001b[0;34m)\u001b[0m\u001b[0;34m:\u001b[0m\u001b[0;34m\u001b[0m\u001b[0m\n",
      "\u001b[0;31mNameError\u001b[0m: name 'QAgent' is not defined"
     ]
    }
   ],
   "source": [
    "# Play\n",
    "num_episodes = 1\n",
    "\n",
    "bot = QAgent.load('../bot/QAgent.pkl', QAgent())\n",
    "\n",
    "for i in range(num_episodes):\n",
    "  print('Ep#{} started...'.format(i))\n",
    "  observation = env.render()\n",
    "  # random_action = env.action_space.sample()\n",
    "  observation, reward, done, info = env.step()\n",
    "  bot.learn_aggregate(observation, reward)\n",
    "  if done:\n",
    "    print('[Done]')\n",
    "    print('...Total reward : {}'.format(bot.total_reward))\n",
    "    # Save the agent\n",
    "    Q\n",
    "    break\n",
    "    \n",
    "QAgent.save('../', bot)"
   ]
  },
  {
   "cell_type": "code",
   "execution_count": null,
   "metadata": {
    "collapsed": false
   },
   "outputs": [],
   "source": []
  },
  {
   "cell_type": "code",
   "execution_count": null,
   "metadata": {
    "collapsed": true
   },
   "outputs": [],
   "source": []
  }
 ],
 "metadata": {
  "kernelspec": {
   "display_name": "Python 3",
   "language": "python",
   "name": "python3"
  },
  "language_info": {
   "codemirror_mode": {
    "name": "ipython",
    "version": 3
   },
   "file_extension": ".py",
   "mimetype": "text/x-python",
   "name": "python",
   "nbconvert_exporter": "python",
   "pygments_lexer": "ipython3",
   "version": "3.4.3"
  }
 },
 "nbformat": 4,
 "nbformat_minor": 0
}

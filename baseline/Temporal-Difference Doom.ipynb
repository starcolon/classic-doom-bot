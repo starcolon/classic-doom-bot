{
 "cells": [
  {
   "cell_type": "code",
   "execution_count": 1,
   "metadata": {
    "collapsed": true
   },
   "outputs": [],
   "source": [
    "import os\n",
    "import gym\n",
    "import pickle\n",
    "import matplotlib.pyplot as plt\n",
    "import numpy as np\n",
    "import ppaquette_gym_doom"
   ]
  },
  {
   "cell_type": "code",
   "execution_count": 2,
   "metadata": {
    "collapsed": false
   },
   "outputs": [
    {
     "name": "stderr",
     "output_type": "stream",
     "text": [
      "INFO:gym.envs.registration:Making new env: ppaquette/DoomDefendCenter-v0\n",
      "[2017-04-26 20:47:43,780] Making new env: ppaquette/DoomDefendCenter-v0\n"
     ]
    }
   ],
   "source": [
    "# Create a classic Doom environment with Gym\n",
    "env = gym.make('ppaquette/DoomDefendCenter-v0')"
   ]
  },
  {
   "cell_type": "code",
   "execution_count": 3,
   "metadata": {
    "collapsed": true
   },
   "outputs": [],
   "source": [
    "class Agent():\n",
    "    def __init__(self,\\\n",
    "               learn_rate=0.05,\\\n",
    "               observation_encoder=lambda x: x,\\\n",
    "               verbose=True):\n",
    "        self.alpha = 0.9 # Probability of re-learning \n",
    "        self.policy = dict() # Q: (state,action) => value\n",
    "        self.total_reward = 0\n",
    "        self.learn_rate = learn_rate\n",
    "        self.observation_encoder = observation_encoder\n",
    "        self.history = [] # List of (state, action, reward)\n",
    "        self.threshold_min_reward = 1e-5\n",
    "    \n",
    "    def reset(self):\n",
    "        self.history.clear()\n",
    "    \n",
    "    def learn_aggregate(self, observation, observation_, action, reward):\n",
    "        pass\n",
    "    \n",
    "    \"\"\"\n",
    "    Find maximum possible reward we would get\n",
    "    from the best action attempted on [state]\n",
    "    \"\"\"\n",
    "    def find_best_action(self, state):\n",
    "        pass\n",
    "    \n",
    "    \"\"\"\n",
    "    Calculate R(t) of an most recent [action] on [state] from the recorded history\n",
    "    \"\"\"\n",
    "    def R(self):\n",
    "        sum_reward = 0\n",
    "        for i, rec in enumerate(self.history):\n",
    "            (s,a,r)     = rec\n",
    "            sum_reward += self.alpha * r ** \n",
    "        return sum_reward\n",
    "    \n",
    "    \"\"\"\n",
    "    Calculate V of [state]\n",
    "    \"\"\"\n",
    "    def V(self, state):\n",
    "        pass\n",
    "    \n",
    "    \"\"\"\n",
    "    Calculate Q when apply action [action] on [state]\n",
    "    \"\"\"\n",
    "    def Q(self, state, action):\n",
    "        pass\n",
    "    \n",
    "    \"\"\"\n",
    "    Predict V*(t) of an [action] on [state]\n",
    "    \"\"\"\n",
    "    def predict_reward(self, state, action):\n",
    "        # TAOTODO:\n",
    "        R_ = self.R()\n",
    "        pass\n",
    "    \n",
    "    \"\"\"\n",
    "    Predict the reward we would get\n",
    "    if take [action] on [state]\n",
    "    \"\"\"\n",
    "    def learn_Q(self, state, state_, action, reward):\n",
    "        # if self.verbose: print(state_, ' [ reward = {} ]'.format(reward))\n",
    "        curr_Q  = self.Q(state, action)\n",
    "        _,max_Q = self.find_best_action(state_)\n",
    "        new_Q   = curr_Q + self.alpha*(reward + self.learn_rate * max_Q - curr_Q)\n",
    "        if state in self.policy:\n",
    "          self.policy[state][action] = reward # Always overwrite\n",
    "        else: self.policy[state] = {action: new_Q}\n",
    "    \n",
    "    @staticmethod\n",
    "    def load(path, default):\n",
    "        if os.path.isfile(path):\n",
    "          with open(path,'rb') as f:\n",
    "            return pickle.load(f) \n",
    "        else:\n",
    "          print('MODEL NOT FOUND, initialising a brand new one.')\n",
    "          return default\n",
    "\n",
    "    @staticmethod\n",
    "    def save(path,agent):\n",
    "        with open(path,'wb+') as f:\n",
    "          return pickle.dump(agent, f)"
   ]
  },
  {
   "cell_type": "code",
   "execution_count": 4,
   "metadata": {
    "collapsed": true
   },
   "outputs": [],
   "source": [
    "# Computer vision utils\n",
    "from PIL import Image\n",
    "from scipy.stats import threshold\n",
    "from scipy.signal import medfilt\n",
    "from scipy.misc import toimage\n",
    "def encode_screen(observation):\n",
    "  # Crop & downsampling & grayscale\n",
    "  cropped = observation[150:230:3, ::2 , :]\n",
    "  r = cropped[:,:,0]\n",
    "  return projection(pixelate(r))\n",
    "\n",
    "def show(mat):\n",
    "  toimage(mat).show()\n",
    "\n",
    "\"\"\"\n",
    "Coarse pixelate\n",
    "\"\"\"\n",
    "def pixelate(observation):\n",
    "  # Threshold\n",
    "  m = threshold(observation, threshmin=100, threshmax=None, newval=0)\n",
    "  # Remove noise\n",
    "  m = medfilt(m, 3)\n",
    "  return m\n",
    "\n",
    "def projection(pixels):\n",
    "  # Horizontal projection\n",
    "  _,w = pixels.shape\n",
    "  proj = np.zeros(w)\n",
    "  for x in range(w):\n",
    "    proj[x] = np.where(np.sum(pixels[:,x]) < 2400, 1, 0)\n",
    "\n",
    "  # Reduce\n",
    "  pj = []\n",
    "  count = np.count_nonzero\n",
    "  start = 0\n",
    "  stride = 5\n",
    "  while len(proj[start:start+stride])>0:\n",
    "    pj.append(count(proj[start:start+stride]) > 3)\n",
    "    start += stride+1\n",
    "    \n",
    "  return str(pj)"
   ]
  },
  {
   "cell_type": "code",
   "execution_count": null,
   "metadata": {
    "collapsed": true
   },
   "outputs": [],
   "source": []
  }
 ],
 "metadata": {
  "kernelspec": {
   "display_name": "Python 3",
   "language": "python",
   "name": "python3"
  },
  "language_info": {
   "codemirror_mode": {
    "name": "ipython",
    "version": 3
   },
   "file_extension": ".py",
   "mimetype": "text/x-python",
   "name": "python",
   "nbconvert_exporter": "python",
   "pygments_lexer": "ipython3",
   "version": "3.4.3"
  }
 },
 "nbformat": 4,
 "nbformat_minor": 0
}

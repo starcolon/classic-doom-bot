{
 "cells": [
  {
   "cell_type": "code",
   "execution_count": 1,
   "metadata": {
    "collapsed": true
   },
   "outputs": [],
   "source": [
    "import os\n",
    "import gym\n",
    "import pickle\n",
    "import matplotlib.pyplot as plt\n",
    "import numpy as np\n",
    "import ppaquette_gym_doom"
   ]
  },
  {
   "cell_type": "code",
   "execution_count": 2,
   "metadata": {
    "collapsed": false
   },
   "outputs": [
    {
     "name": "stderr",
     "output_type": "stream",
     "text": [
      "INFO:gym.envs.registration:Making new env: ppaquette/DoomDefendCenter-v0\n",
      "[2017-04-26 20:47:43,780] Making new env: ppaquette/DoomDefendCenter-v0\n"
     ]
    }
   ],
   "source": [
    "# Create a classic Doom environment with Gym\n",
    "env = gym.make('ppaquette/DoomDefendCenter-v0')"
   ]
  },
  {
   "cell_type": "code",
   "execution_count": 3,
   "metadata": {
    "collapsed": true
   },
   "outputs": [],
   "source": [
    "class Agent():\n",
    "    def __init__(self,\\\n",
    "               learn_rate=0.05,\\\n",
    "               observation_encoder=lambda x: x,\\\n",
    "               verbose=True):\n",
    "        self.alpha = 0.9 # Probability of re-learning \n",
    "        self.policy = dict() # Q: (state,action) => value\n",
    "        self.total_reward = 0\n",
    "        self.learn_rate = learn_rate\n",
    "        self.observation_encoder = observation_encoder\n",
    "        self.historical_rewards = []\n",
    "    \n",
    "    def reset(self):\n",
    "        self.historical_rewards.clear()\n",
    "    \n",
    "    def learn_aggregate(self, observation, observation_, action, reward):\n",
    "        pass\n",
    "    \n",
    "    \"\"\"\n",
    "    Find maximum possible reward we would get\n",
    "    from the best action attempted on [state]\n",
    "    \"\"\"\n",
    "    def find_best_action(self, state):\n",
    "        pass\n",
    "    \n",
    "    \"\"\"\n",
    "    Calculate R(t) of an [action] on [state] from the recorded history\n",
    "    \"\"\"\n",
    "    def return_of_action(self, state, action):\n",
    "        pass\n",
    "    \n",
    "    \"\"\"\n",
    "    Predict V(t) of an [action] on [state]\n",
    "    \"\"\"\n",
    "    def predict_reward(self, state, action):\n",
    "        pass\n",
    "    \n",
    "    @staticmethod\n",
    "    def load(path, default):\n",
    "        if os.path.isfile(path):\n",
    "          with open(path,'rb') as f:\n",
    "            return pickle.load(f) \n",
    "        else:\n",
    "          print('MODEL NOT FOUND, initialising a brand new one.')\n",
    "          return default\n",
    "\n",
    "    @staticmethod\n",
    "    def save(path,agent):\n",
    "        with open(path,'wb+') as f:\n",
    "          return pickle.dump(agent, f)"
   ]
  },
  {
   "cell_type": "code",
   "execution_count": null,
   "metadata": {
    "collapsed": true
   },
   "outputs": [],
   "source": []
  }
 ],
 "metadata": {
  "kernelspec": {
   "display_name": "Python 3",
   "language": "python",
   "name": "python3"
  },
  "language_info": {
   "codemirror_mode": {
    "name": "ipython",
    "version": 3
   },
   "file_extension": ".py",
   "mimetype": "text/x-python",
   "name": "python",
   "nbconvert_exporter": "python",
   "pygments_lexer": "ipython3",
   "version": "3.4.3"
  }
 },
 "nbformat": 4,
 "nbformat_minor": 0
}

{
 "cells": [
  {
   "cell_type": "code",
   "execution_count": 1,
   "metadata": {
    "collapsed": true
   },
   "outputs": [],
   "source": [
    "import os\n",
    "import gym\n",
    "import pickle\n",
    "import matplotlib.pyplot as plt\n",
    "import numpy as np\n",
    "import ppaquette_gym_doom\n",
    "from collections import deque"
   ]
  },
  {
   "cell_type": "code",
   "execution_count": 2,
   "metadata": {
    "collapsed": false
   },
   "outputs": [
    {
     "name": "stderr",
     "output_type": "stream",
     "text": [
      "INFO:gym.envs.registration:Making new env: ppaquette/DoomDefendCenter-v0\n",
      "[2017-05-01 21:54:56,325] Making new env: ppaquette/DoomDefendCenter-v0\n"
     ]
    }
   ],
   "source": [
    "# Create a classic Doom environment with Gym\n",
    "env = gym.make('ppaquette/DoomDefendCenter-v0')"
   ]
  },
  {
   "cell_type": "code",
   "execution_count": 3,
   "metadata": {
    "collapsed": true
   },
   "outputs": [],
   "source": [
    "class TDAgent():\n",
    "    def __init__(self,\\\n",
    "               learn_rate=0.05,\\\n",
    "               observation_encoder=lambda x: x,\\\n",
    "               verbose=True):\n",
    "        self.alpha = 1.0 # Degree of temporal difference\n",
    "        self.policy = dict() # Vπ: action => state => v\n",
    "        self.total_reward = 0\n",
    "        self.learn_rate = learn_rate\n",
    "        self.observation_encoder = observation_encoder\n",
    "        self.action_mapping = {} # Map [action str] => [action object]\n",
    "        self.history = deque() # List of (state, action, reward), first is newest\n",
    "    \n",
    "    def reset(self):\n",
    "        self.history.clear()\n",
    "    \n",
    "    def learn_aggregate(self, observation, observation_, action, reward):\n",
    "        # Encode [observation] => [state]\n",
    "        state  = self.observation_encoder(observation)\n",
    "        state_ = self.observation_encoder(observation_)\n",
    "        self.history.appendleft((state, str(action), reward))\n",
    "        self.action_mapping[str(action)] = action\n",
    "        self.learn_V(state, str(action), reward, state_)\n",
    "        \n",
    "    \"\"\"\n",
    "    Find maximum possible reward we would get\n",
    "    from the best action attempted on [state]\n",
    "    \"\"\"\n",
    "    def find_best_action(self, state):\n",
    "        best_return = -1\n",
    "        best_action = -1\n",
    "        # Find the best policy which applies on [state]\n",
    "        # and it yields the highest [V]\n",
    "        for action in self.policy:\n",
    "            if state in self.policy[action]:\n",
    "                if self.policy[action][state] > best_return:\n",
    "                    best_action = action\n",
    "                    best_return = self.policy[action][state]\n",
    "        return (best_action, best_return)\n",
    "    \n",
    "    def decode_action(self, action):\n",
    "        if action not in self.action_mapping:\n",
    "          return None\n",
    "        else: \n",
    "          return self.action_mapping[action]\n",
    "    \n",
    "    \"\"\"\n",
    "    Query the value policy V(state):π\n",
    "    \"\"\"\n",
    "    def V(self, state, action):\n",
    "        if action not in self.policy:\n",
    "            self.policy[action] = {state: 0}\n",
    "        if state not in self.policy[action]:\n",
    "            self.policy[action][state] = 0\n",
    "        return self.policy[action][state]\n",
    "\n",
    "    \"\"\"\n",
    "    Update the value policy π\n",
    "    \"\"\"\n",
    "    def learn_V(self, state, action, reward, next_state):\n",
    "        old_V = self.V(state, action)\n",
    "        new_V = self.V(next_state, action)\n",
    "        \n",
    "        # TAODEBUG:\n",
    "        #print('[Learn V]')\n",
    "        #print('... V : {:.2f}'.format(old_V))\n",
    "        #print('... V`: {:.2f}'.format(new_V))\n",
    "        \n",
    "        self.policy[action][state] = old_V + \\\n",
    "            self.learn_rate * (reward + self.alpha * new_V - old_V)\n",
    "    \n",
    "    @staticmethod\n",
    "    def load(path, default):\n",
    "        if os.path.isfile(path):\n",
    "          with open(path,'rb') as f:\n",
    "            return pickle.load(f) \n",
    "        else:\n",
    "          print('MODEL NOT FOUND, initialising a brand new one.')\n",
    "          return default\n",
    "\n",
    "    @staticmethod\n",
    "    def save(path,agent):\n",
    "        with open(path,'wb+') as f:\n",
    "          return pickle.dump(agent, f)"
   ]
  },
  {
   "cell_type": "code",
   "execution_count": 4,
   "metadata": {
    "collapsed": true
   },
   "outputs": [],
   "source": [
    "# Computer vision utils\n",
    "from PIL import Image\n",
    "from scipy.stats import threshold\n",
    "from scipy.signal import medfilt\n",
    "from scipy.misc import toimage\n",
    "def encode_screen(observation):\n",
    "  # Crop & downsampling & grayscale\n",
    "  cropped = observation[150:230:3, ::2 , :]\n",
    "  r = cropped[:,:,0]\n",
    "  return projection(pixelate(r))\n",
    "\n",
    "def show(mat):\n",
    "  toimage(mat).show()\n",
    "\n",
    "\"\"\"\n",
    "Coarse pixelate\n",
    "\"\"\"\n",
    "def pixelate(observation):\n",
    "  # Threshold\n",
    "  m = threshold(observation, threshmin=100, threshmax=None, newval=0)\n",
    "  # Remove noise\n",
    "  m = medfilt(m, 3)\n",
    "  return m\n",
    "\n",
    "def projection(pixels):\n",
    "  # Horizontal projection\n",
    "  _,w = pixels.shape\n",
    "  proj = np.zeros(w)\n",
    "  for x in range(w):\n",
    "    proj[x] = np.where(np.sum(pixels[:,x]) < 2400, 1, 0)\n",
    "\n",
    "  # Reduce\n",
    "  pj = []\n",
    "  count = np.count_nonzero\n",
    "  start = 0\n",
    "  stride = 5\n",
    "  while len(proj[start:start+stride])>0:\n",
    "    pj.append(count(proj[start:start+stride]) > 3)\n",
    "    start += stride+1\n",
    "    \n",
    "  return str(pj)"
   ]
  },
  {
   "cell_type": "code",
   "execution_count": 5,
   "metadata": {
    "collapsed": false
   },
   "outputs": [
    {
     "name": "stdout",
     "output_type": "stream",
     "text": [
      "Ep#0 started...\n",
      "...[DONE] Total reward : 0\n",
      "Ep#25 started...\n",
      "...[DONE] Total reward : 0\n",
      "Ep#50 started...\n",
      "...[DONE] Total reward : 0\n",
      "Ep#75 started...\n",
      "...[DONE] Total reward : 0\n",
      "All 100 episodes of training are DONE.\n"
     ]
    }
   ],
   "source": [
    "# Play\n",
    "model_name = 'TDAgent.pkl'\n",
    "score_records = [] # Scores of each round\n",
    "turn_records = [] # Number of turns lasting each round\n",
    "num_episodes = 100\n",
    "all_actions = set(range(3)) # Attack / Right / Left\n",
    "\n",
    "bot = TDAgent.load(model_name,\\\n",
    "                  TDAgent(learn_rate=0.8, \\\n",
    "                         observation_encoder=encode_screen))\n",
    "\n",
    "for i in range(num_episodes):\n",
    "  if num_episodes<25 or i % 25 == 0:\n",
    "    print('Ep#{} started...'.format(i))\n",
    "  observation = env.reset()\n",
    "  num_turns = 0\n",
    "  while True:\n",
    "    env.render()\n",
    "    \n",
    "    # Try to find best action, otherwise, random\n",
    "    state = bot.observation_encoder(observation)\n",
    "    if i < 0.75 * num_episodes:\n",
    "      action = -1\n",
    "    else:\n",
    "      action, _ = bot.find_best_action(state)\n",
    "    if action == -1:\n",
    "      action = env.action_space.sample()\n",
    "    else:\n",
    "      # print('... Best action : ', action)\n",
    "      action = bot.decode_action(action)\n",
    "\n",
    "    observation_, reward, done, info = env.step(action)\n",
    "    bot.learn_aggregate(observation, observation_, action, reward)\n",
    "    observation = np.copy(observation_)\n",
    "    num_turns  += 1\n",
    "    if done:\n",
    "      score_records.append(bot.total_reward)\n",
    "      turn_records.append(num_turns)\n",
    "      if num_episodes<25 or i % 25 == 0:\n",
    "        print('...[DONE] Total reward : {}'.format(bot.total_reward))\n",
    "      # Save the agent\n",
    "      TDAgent.save(model_name, bot)\n",
    "      bot.reset()\n",
    "      break\n",
    "        \n",
    "print('All {} episodes of training are DONE.'.format(num_episodes))"
   ]
  },
  {
   "cell_type": "code",
   "execution_count": 6,
   "metadata": {
    "collapsed": false
   },
   "outputs": [
    {
     "data": {
      "image/png": "[encoded data removed]",
      "text/plain": [
       "<matplotlib.figure.Figure at 0x1071632b0>"
      ]
     },
     "metadata": {},
     "output_type": "display_data"
    },
    {
     "data": {
      "image/png": "[encoded data removed]",
      "text/plain": [
       "<matplotlib.figure.Figure at 0x11566cc88>"
      ]
     },
     "metadata": {},
     "output_type": "display_data"
    }
   ],
   "source": [
    "# Show score\n",
    "%matplotlib inline\n",
    "\n",
    "def moving_avg(arr):\n",
    "  mm = []\n",
    "  wnd = 8\n",
    "  for i in range(len(arr)):\n",
    "    v = arr[i-wnd:i]\n",
    "    if len(v)>0:\n",
    "      mm.append(max(v))\n",
    "  return mm\n",
    "\n",
    "plt.figure(1)\n",
    "plt.xlabel('# Episode')\n",
    "plt.ylabel('Score/game')\n",
    "plt.plot(moving_avg(score_records))\n",
    "\n",
    "plt.figure(2)\n",
    "plt.xlabel('# Episode')\n",
    "plt.ylabel('Turns/game')\n",
    "plt.plot(moving_avg(turn_records))\n",
    "plt.show()"
   ]
  }
 ],
 "metadata": {
  "kernelspec": {
   "display_name": "Python 3",
   "language": "python",
   "name": "python3"
  },
  "language_info": {
   "codemirror_mode": {
    "name": "ipython",
    "version": 3
   },
   "file_extension": ".py",
   "mimetype": "text/x-python",
   "name": "python",
   "nbconvert_exporter": "python",
   "pygments_lexer": "ipython3",
   "version": "3.4.3"
  }
 },
 "nbformat": 4,
 "nbformat_minor": 0
}

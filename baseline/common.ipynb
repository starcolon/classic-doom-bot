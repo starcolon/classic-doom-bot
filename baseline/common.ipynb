{
 "cells": [
  {
   "cell_type": "code",
   "execution_count": 1,
   "metadata": {
    "collapsed": true
   },
   "outputs": [],
   "source": [
    "# Common structure & libraries for Reinforcement Learning agent"
   ]
  },
  {
   "cell_type": "code",
   "execution_count": 2,
   "metadata": {
    "collapsed": true
   },
   "outputs": [],
   "source": [
    "import os\n",
    "import pickle\n",
    "import matplotlib.pyplot as plt\n",
    "import numpy as np\n",
    "import ppaquette_gym_doom"
   ]
  },
  {
   "cell_type": "code",
   "execution_count": 3,
   "metadata": {
    "collapsed": true
   },
   "outputs": [],
   "source": [
    "class BaseAgent:\n",
    "    def __init__(self,\\\n",
    "               learn_rate=0.05,\\\n",
    "               observation_encoder=lambda x: x,\\\n",
    "               verbose=True):\n",
    "        self.alpha = 0.9\n",
    "        self.total_reward = 0\n",
    "        self.learn_rate = learn_rate\n",
    "        self.observation_encoder = observation_encoder\n",
    "        self.action_mapping = {} # Map [action str] => [action object]\n",
    "        self.verbose = verbose\n",
    "    \n",
    "    def reset(self):\n",
    "        self.prev_state = 0\n",
    "        self.total_reward = 0\n",
    "        \n",
    "    def learn_aggregate(self, observation, observation_, action, reward):\n",
    "        # Encode [observation] => [state]\n",
    "        state  = self.observation_encoder(observation)\n",
    "        state_ = self.observation_encoder(observation_)\n",
    "        self.action_mapping[str(action)] = action\n",
    "        self.prev_state = state\n",
    "        self.total_reward += reward\n",
    "        \n",
    "    def decode_action(self, action):\n",
    "        if action not in self.action_mapping:\n",
    "          return None\n",
    "        else: \n",
    "          return self.action_mapping[action]\n",
    "    \n",
    "    @staticmethod\n",
    "    def load(path, default):\n",
    "        if os.path.isfile(path):\n",
    "          with open(path,'rb') as f:\n",
    "            return pickle.load(f) \n",
    "        else:\n",
    "          print('MODEL NOT FOUND, initialising a brand new one.')\n",
    "          return default\n",
    "\n",
    "    @staticmethod\n",
    "    def save(path,agent):\n",
    "        with open(path,'wb+') as f:\n",
    "          return pickle.dump(agent, f)"
   ]
  },
  {
   "cell_type": "code",
   "execution_count": null,
   "metadata": {
    "collapsed": true
   },
   "outputs": [],
   "source": [
    "# Computer vision utils\n",
    "from PIL import Image\n",
    "from scipy.stats import threshold\n",
    "from scipy.signal import medfilt\n",
    "from scipy.misc import toimage\n",
    "def encode_screen(observation):\n",
    "  # Crop & downsampling & grayscale\n",
    "  cropped = observation[150:230:3, ::2 , :]\n",
    "  r = cropped[:,:,0]\n",
    "  return projection(pixelate(r))\n",
    "\n",
    "def show(mat):\n",
    "  toimage(mat).show()\n",
    "\n",
    "\"\"\"\n",
    "Coarse pixelate\n",
    "\"\"\"\n",
    "def pixelate(observation):\n",
    "  # Threshold\n",
    "  m = threshold(observation, threshmin=100, threshmax=None, newval=0)\n",
    "  # Remove noise\n",
    "  m = medfilt(m, 3)\n",
    "  return m\n",
    "\n",
    "def projection(pixels):\n",
    "  # Horizontal projection\n",
    "  _,w = pixels.shape\n",
    "  proj = np.zeros(w)\n",
    "  for x in range(w):\n",
    "    proj[x] = np.where(np.sum(pixels[:,x]) < 2400, 1, 0)\n",
    "\n",
    "  # Reduce\n",
    "  pj = []\n",
    "  count = np.count_nonzero\n",
    "  start = 0\n",
    "  stride = 5\n",
    "  while len(proj[start:start+stride])>0:\n",
    "    pj.append(count(proj[start:start+stride]) > 3)\n",
    "    start += stride+1\n",
    "    \n",
    "  return str(pj)"
   ]
  }
 ],
 "metadata": {
  "kernelspec": {
   "display_name": "Python 3",
   "language": "python",
   "name": "python3"
  },
  "language_info": {
   "codemirror_mode": {
    "name": "ipython",
    "version": 3
   },
   "file_extension": ".py",
   "mimetype": "text/x-python",
   "name": "python",
   "nbconvert_exporter": "python",
   "pygments_lexer": "ipython3",
   "version": "3.4.3"
  }
 },
 "nbformat": 4,
 "nbformat_minor": 0
}
